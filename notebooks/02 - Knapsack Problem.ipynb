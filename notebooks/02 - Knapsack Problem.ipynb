{
 "cells": [
  {
   "cell_type": "code",
   "execution_count": null,
   "id": "initial_id",
   "metadata": {
    "collapsed": true
   },
   "outputs": [],
   "source": [
    "import pandas as pd\n",
    "import random\n",
    "from ortools.algorithms.python import knapsack_solver\n",
    "import math"
   ]
  },
  {
   "cell_type": "code",
   "execution_count": null,
   "outputs": [],
   "source": [
    "df = pd.read_csv(\"../data/interim/marketing_sample_for_amazon_com-ecommerce__20200101_20200131__weight_price.csv\")"
   ],
   "metadata": {
    "collapsed": false
   },
   "id": "d6f7d7421617217e"
  },
  {
   "cell_type": "code",
   "execution_count": null,
   "outputs": [],
   "source": [
    "df.head()"
   ],
   "metadata": {
    "collapsed": false
   },
   "id": "3b777fe82d0c5de4"
  },
  {
   "cell_type": "code",
   "execution_count": null,
   "outputs": [],
   "source": [
    "# Set a random seed for reproducibility\n",
    "random_seed = 42\n",
    "random.seed(random_seed)\n",
    "\n",
    "shuffled_df = df.sample(frac=1, random_state=random_seed)"
   ],
   "metadata": {
    "collapsed": false
   },
   "id": "2919ec9ffaf66db0"
  },
  {
   "cell_type": "code",
   "execution_count": null,
   "outputs": [],
   "source": [
    "num_samples = 100\n",
    "random_subset = shuffled_df.head(num_samples)"
   ],
   "metadata": {
    "collapsed": false
   },
   "id": "bdd6c13aa5c30150"
  },
  {
   "cell_type": "code",
   "execution_count": null,
   "outputs": [],
   "source": [
    "random_subset.describe()"
   ],
   "metadata": {
    "collapsed": false
   },
   "id": "36fa88c8ce3afc04"
  },
  {
   "cell_type": "code",
   "execution_count": null,
   "outputs": [],
   "source": [
    "solver = knapsack_solver.KnapsackSolver(\n",
    "    knapsack_solver.SolverType.KNAPSACK_MULTIDIMENSION_BRANCH_AND_BOUND_SOLVER,\n",
    "    \"KnapsackExample\",\n",
    ")\n",
    "\n",
    "# Capacity of the knapsack (maximum weight allowed)\n",
    "capacity = 25000\n"
   ],
   "metadata": {
    "collapsed": false
   },
   "id": "f875ba86a46e260b"
  },
  {
   "cell_type": "code",
   "execution_count": null,
   "outputs": [],
   "source": [
    "weights = random_subset['weight_kg'].tolist()\n",
    "values = random_subset['price'].tolist()\n",
    "\n",
    "# Convert weights and values to integers (required by OR-Tools)\n",
    "weights = [int(w * 1000) for w in weights]  # Convert to grams (integer)\n",
    "values = [int(v * 100) for v in values]  # Convert to currency (integer)\n",
    "\n",
    "# Number of items\n",
    "num_items = len(random_subset)"
   ],
   "metadata": {
    "collapsed": false
   },
   "id": "baf66cb052e557fc"
  },
  {
   "cell_type": "code",
   "execution_count": null,
   "outputs": [],
   "source": [
    "# Set the solver parameters\n",
    "solver.init(values, [weights], [capacity])\n",
    "solver.solve()\n",
    "\n",
    "# Get the selected items (1 for selected, 0 for not selected)\n",
    "selected_items = [solver.best_solution_contains(i) for i in range(num_items)]\n"
   ],
   "metadata": {
    "collapsed": false
   },
   "id": "2220490b648e9cbe"
  },
  {
   "cell_type": "code",
   "execution_count": null,
   "outputs": [],
   "source": [
    "selected_item_df = random_subset.iloc[selected_items]\n",
    "selected_item_df"
   ],
   "metadata": {
    "collapsed": false
   },
   "id": "1cc6d7f14df6137d"
  },
  {
   "cell_type": "code",
   "execution_count": null,
   "outputs": [],
   "source": [
    "selected_item_df[['weight_kg','price']].sum()"
   ],
   "metadata": {
    "collapsed": false
   },
   "id": "c8827f1effcfc938"
  },
  {
   "cell_type": "code",
   "execution_count": null,
   "outputs": [],
   "source": [
    "# The solver came out at slightly over the desired weight, so we're going to convert the kg column into grams and try it again. \n",
    "def convert_grams(weight_kg):\n",
    "    weight_grams = math.ceil(weight_kg * 1000)\n",
    "\n",
    "    try:\n",
    "        return int(weight_grams)\n",
    "    except ValueError:\n",
    "        return None\n",
    "\n",
    "df['weight_grams'] = df['weight_kg'].apply(convert_grams)"
   ],
   "metadata": {
    "collapsed": false
   },
   "id": "5aabb9e67d7aa779"
  },
  {
   "cell_type": "code",
   "execution_count": null,
   "outputs": [],
   "source": [
    "shuffled_df = df.sample(frac=1, random_state=random_seed)\n",
    "num_samples = 100\n",
    "random_subset = shuffled_df.head(num_samples)\n",
    "weights = random_subset['weight_grams'].tolist()"
   ],
   "metadata": {
    "collapsed": false
   },
   "id": "236eb313c3dcfcb6"
  },
  {
   "cell_type": "code",
   "execution_count": null,
   "outputs": [],
   "source": [
    "solver.init(values, [weights], [capacity])\n",
    "solver.solve()\n",
    "selected_items = [solver.best_solution_contains(i) for i in range(num_items)]"
   ],
   "metadata": {
    "collapsed": false
   },
   "id": "b0233170974b6690"
  },
  {
   "cell_type": "code",
   "execution_count": null,
   "outputs": [],
   "source": [
    "selected_item_df = random_subset.iloc[selected_items]\n",
    "selected_item_df"
   ],
   "metadata": {
    "collapsed": false
   },
   "id": "31bd9ee0aaa970aa"
  },
  {
   "cell_type": "code",
   "execution_count": null,
   "outputs": [],
   "source": [
    "selected_item_df[['weight_kg','weight_grams','price']].sum()"
   ],
   "metadata": {
    "collapsed": false
   },
   "id": "3e7133900c58466a"
  },
  {
   "cell_type": "code",
   "execution_count": null,
   "outputs": [],
   "source": [
    "# The discrepancy still seems to exist here. \n",
    "# This is likely due to floating point arithmetic, I could use the decimal module here, but the results are close enough for this project."
   ],
   "metadata": {
    "collapsed": false
   },
   "id": "b2db4c6c4d30cde"
  }
 ],
 "metadata": {
  "kernelspec": {
   "display_name": "Python 3",
   "language": "python",
   "name": "python3"
  },
  "language_info": {
   "codemirror_mode": {
    "name": "ipython",
    "version": 2
   },
   "file_extension": ".py",
   "mimetype": "text/x-python",
   "name": "python",
   "nbconvert_exporter": "python",
   "pygments_lexer": "ipython2",
   "version": "2.7.6"
  }
 },
 "nbformat": 4,
 "nbformat_minor": 5
}
