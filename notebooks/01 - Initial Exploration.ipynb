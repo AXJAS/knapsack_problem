{
 "cells": [
  {
   "cell_type": "code",
   "execution_count": null,
   "outputs": [],
   "source": [
    "# Dataset from https://www.kaggle.com/datasets/promptcloud/amazon-product-dataset-2020"
   ],
   "metadata": {
    "collapsed": false
   },
   "id": "8d409de63d2ff57d"
  },
  {
   "cell_type": "code",
   "execution_count": null,
   "outputs": [],
   "source": [
    "import pandas as pd"
   ],
   "metadata": {
    "collapsed": false
   },
   "id": "fc41f45d9065a5ab"
  },
  {
   "cell_type": "code",
   "execution_count": null,
   "outputs": [],
   "source": [
    "# import the csv to a dataframe\n",
    "df = pd.read_csv('../data/raw/marketing_sample_for_amazon_com-ecommerce__20200101_20200131__10k_data.csv')"
   ],
   "metadata": {
    "collapsed": false
   },
   "id": "c0f35a8b83b2ae26"
  },
  {
   "cell_type": "code",
   "execution_count": null,
   "outputs": [],
   "source": [
    "df.head()"
   ],
   "metadata": {
    "collapsed": false
   },
   "id": "a8a942795148c3cd"
  },
  {
   "cell_type": "code",
   "execution_count": null,
   "outputs": [],
   "source": [
    "df.info()"
   ],
   "metadata": {
    "collapsed": false
   },
   "id": "4c36f5abffb9ac79"
  },
  {
   "cell_type": "code",
   "execution_count": null,
   "outputs": [],
   "source": [
    "bin_dataset = df[['Uniq Id','Shipping Weight','Selling Price']]\n",
    "\n",
    "# rename columns\n",
    "bin_dataset = bin_dataset.rename(columns={'Uniq Id':'id','Shipping Weight':'weight','Selling Price':'price'})"
   ],
   "metadata": {
    "collapsed": false
   },
   "id": "d24f2235e1793dad"
  },
  {
   "cell_type": "code",
   "execution_count": null,
   "outputs": [],
   "source": [
    "bin_dataset.info()"
   ],
   "metadata": {
    "collapsed": false
   },
   "id": "a560dc89bf9275b5"
  },
  {
   "cell_type": "code",
   "execution_count": null,
   "outputs": [],
   "source": [
    "# Drop null values from the table.\n",
    "bin_dataset = bin_dataset.dropna(subset=['weight', 'price'])\n",
    "bin_dataset.info()"
   ],
   "metadata": {
    "collapsed": false
   },
   "id": "c1174e5cd7b424f9"
  },
  {
   "cell_type": "code",
   "execution_count": null,
   "outputs": [],
   "source": [
    "weight_counts = bin_dataset.weight.str.extract(r'(pounds|ounces)').value_counts()\n",
    "pounds_rows = weight_counts['pounds']\n",
    "ounces_rows = weight_counts['ounces']\n",
    "total_rows = weight_counts.sum()\n",
    "print(f\"The match found {total_rows} rows, of this:\\n{pounds_rows} rows contain the word 'pounds'\\n{ounces_rows} rows contain the word 'ounces'\")"
   ],
   "metadata": {
    "collapsed": false
   },
   "id": "c5d6f0fea420bdf3"
  },
  {
   "cell_type": "code",
   "execution_count": null,
   "outputs": [],
   "source": [
    "# to get these to a uniform weight we need to extract the numeric values from the strings.\n",
    "# Convert ounces to kilograms (1 pound = 0.0283495 kilograms).\n",
    "# Convert pounds to kilograms (1 pound = 0.453592 kilograms).\n",
    "\n",
    "def convert_to_kilograms(weight_str):\n",
    "    # Remove any non-numeric characters, including commas\n",
    "    numeric_str = ''.join(c for c in weight_str if c.isdigit() or c == '.')\n",
    "\n",
    "    try:\n",
    "        value = float(numeric_str)\n",
    "    except ValueError:\n",
    "        return None  # Return None if the numeric part cannot be converted\n",
    "\n",
    "    parts = weight_str.split()\n",
    "    unit = parts[-1].lower()  # Get the last part as the unit in lowercase\n",
    "\n",
    "    if unit == 'pounds':\n",
    "        return value * 0.453592\n",
    "    elif unit == 'ounces':\n",
    "        return value * 0.0283495\n",
    "    else:\n",
    "        return None  # Return None for unknown units\n"
   ],
   "metadata": {
    "collapsed": false
   },
   "id": "4f72ab5618f8b064"
  },
  {
   "cell_type": "code",
   "execution_count": null,
   "outputs": [],
   "source": [
    "bin_dataset['weight_in_kg'] = bin_dataset['weight'].apply(convert_to_kilograms)"
   ],
   "metadata": {
    "collapsed": false
   },
   "id": "72ed1617b9602e2a"
  },
  {
   "cell_type": "code",
   "execution_count": null,
   "outputs": [],
   "source": [
    "bin_dataset"
   ],
   "metadata": {
    "collapsed": false
   },
   "id": "b8487641bd5f51b4"
  },
  {
   "cell_type": "code",
   "execution_count": null,
   "outputs": [],
   "source": [
    "# We apply the convert_to_kilograms function to the 'weight' column to populate the 'weight_in_kg' column.\n",
    "# We use the .isna() method to create a boolean mask that identifies rows where 'weight_in_kg' is None (indicating errors).\n",
    "# We use this boolean mask to select and display only the rows with errors.\n",
    "\n",
    "# Apply the conversion function to the 'Weight' column\n",
    "bin_dataset['weight_in_kg'] = bin_dataset['weight'].apply(convert_to_kilograms)\n",
    "\n",
    "# Filter rows with errors (where 'Weight_in_kg' is None)\n",
    "rows_with_errors = bin_dataset[bin_dataset['weight_in_kg'].isna()]\n",
    "\n",
    "# Display rows with errors\n",
    "print(rows_with_errors)"
   ],
   "metadata": {
    "collapsed": false
   },
   "id": "e854c9d9c7091c5e"
  },
  {
   "cell_type": "code",
   "execution_count": null,
   "outputs": [],
   "source": [
    "# Drop rows with invalid or unknown units\n",
    "bin_dataset = bin_dataset.dropna(subset=['weight_in_kg'])"
   ],
   "metadata": {
    "collapsed": false
   },
   "id": "7e09623f5bf20ea6"
  },
  {
   "cell_type": "code",
   "execution_count": null,
   "outputs": [],
   "source": [
    "bin_dataset['price']"
   ],
   "metadata": {
    "collapsed": false
   },
   "id": "afe27e9a10ff0d5f"
  },
  {
   "cell_type": "code",
   "execution_count": null,
   "outputs": [],
   "source": [
    "def convert_to_number(price_str):\n",
    "    # Remove non-numeric characters and currency symbols\n",
    "    numeric_str = ''.join(c for c in price_str if c.isdigit() or c == '.')\n",
    "\n",
    "    try:\n",
    "        return float(numeric_str)\n",
    "    except ValueError:\n",
    "        return None "
   ],
   "metadata": {
    "collapsed": false
   },
   "id": "96453ba3168403e8"
  },
  {
   "cell_type": "code",
   "execution_count": null,
   "outputs": [],
   "source": [
    "bin_dataset['cleaned_price'] = bin_dataset['price'].apply(convert_to_number)\n",
    "# Filter rows with errors (where 'price' is None)\n",
    "rows_with_errors = bin_dataset[bin_dataset['cleaned_price'].isna()]\n",
    "\n",
    "# Display rows with errors\n",
    "rows_with_errors"
   ],
   "metadata": {
    "collapsed": false
   },
   "id": "5359cf10b1a6a79a"
  },
  {
   "cell_type": "code",
   "execution_count": null,
   "outputs": [],
   "source": [
    "# We could clean these up a bit, but it's a small percentage of the dataset. \n",
    "# So we'll just exclude these rows\n",
    "bin_dataset = bin_dataset.dropna(subset=['cleaned_price'])"
   ],
   "metadata": {
    "collapsed": false
   },
   "id": "d2b6e277bc4f6f60"
  },
  {
   "cell_type": "code",
   "execution_count": null,
   "outputs": [],
   "source": [
    "# Now that the dataset is a bit cleaner, we're going to drop the old columns.\n",
    "# Axis 1 is specified to indicate that it's columns we want to remove\n",
    "bin_dataset = bin_dataset.drop(['price', 'weight'], axis=1)"
   ],
   "metadata": {
    "collapsed": false
   },
   "id": "6863b1ddb05c0bf1"
  },
  {
   "cell_type": "code",
   "execution_count": null,
   "outputs": [],
   "source": [
    "bin_dataset.head()"
   ],
   "metadata": {
    "collapsed": false
   },
   "id": "fd6e9a71801ba389"
  },
  {
   "cell_type": "code",
   "execution_count": null,
   "outputs": [],
   "source": [
    "# Just as we did earlier, we're going to rename the columns\n",
    "bin_dataset = bin_dataset.rename(columns={'weight_in_kg':'weight_kg','cleaned_price':'price'})"
   ],
   "metadata": {
    "collapsed": false
   },
   "id": "aabd43200b59e3c2"
  },
  {
   "cell_type": "code",
   "execution_count": null,
   "outputs": [],
   "source": [
    "bin_dataset.head()"
   ],
   "metadata": {
    "collapsed": false
   },
   "id": "bf2a0b3914b662af"
  },
  {
   "cell_type": "code",
   "execution_count": null,
   "outputs": [],
   "source": [
    "# Now that this has been cleaned up a bit, we can export it for future use.\n",
    "bin_dataset.to_csv('../data/interim/marketing_sample_for_amazon_com-ecommerce__20200101_20200131__weight_price.csv',index=False)"
   ],
   "metadata": {
    "collapsed": false
   },
   "id": "1c6a9d934c67fd15"
  },
  {
   "cell_type": "code",
   "execution_count": null,
   "outputs": [],
   "source": [
    "bin_dataset.info()"
   ],
   "metadata": {
    "collapsed": false
   },
   "id": "60020a4a7edd5bf9"
  },
  {
   "cell_type": "code",
   "execution_count": null,
   "outputs": [],
   "source": [],
   "metadata": {
    "collapsed": false
   },
   "id": "1f06c22e16acbc73"
  }
 ],
 "metadata": {
  "kernelspec": {
   "display_name": "Python 3",
   "language": "python",
   "name": "python3"
  },
  "language_info": {
   "codemirror_mode": {
    "name": "ipython",
    "version": 2
   },
   "file_extension": ".py",
   "mimetype": "text/x-python",
   "name": "python",
   "nbconvert_exporter": "python",
   "pygments_lexer": "ipython2",
   "version": "2.7.6"
  }
 },
 "nbformat": 4,
 "nbformat_minor": 5
}
